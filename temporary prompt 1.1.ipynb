{
 "cells": [
  {
   "cell_type": "code",
   "execution_count": 44,
   "metadata": {},
   "outputs": [],
   "source": [
    "from langchain.chains import LLMChain\n",
    "from langchain.prompts import PromptTemplate\n",
    "from langchain.llms import OpenAI\n",
    "from langchain.chains.combine_documents.stuff import StuffDocumentsChain\n",
    "from langchain.memory import ConversationBufferMemory\n",
    "from langchain.chat_models import ChatOpenAI\n",
    "import os"
   ]
  },
  {
   "cell_type": "code",
   "execution_count": 45,
   "metadata": {},
   "outputs": [
    {
     "data": {
      "text/plain": [
       "True"
      ]
     },
     "execution_count": 45,
     "metadata": {},
     "output_type": "execute_result"
    }
   ],
   "source": [
    "# .env 파일 로드\n",
    "from dotenv import load_dotenv\n",
    "load_dotenv()"
   ]
  },
  {
   "cell_type": "code",
   "execution_count": 69,
   "metadata": {},
   "outputs": [],
   "source": [
    "# LLM 설정\n",
    "llm = ChatOpenAI(\n",
    "    model = 'gpt-4o',\n",
    "    temperature = 0.7,\n",
    "    openai_api_key=os.getenv(\"OPENAI_API_KEY\"),\n",
    ")\n",
    "# 대화의 맥락 유지를 위한 memory 설정\n",
    "memory = ConversationBufferMemory(memory_key=\"history\")"
   ]
  },
  {
   "cell_type": "code",
   "execution_count": 70,
   "metadata": {},
   "outputs": [],
   "source": [
    "# 프롬프트 1: 회사/직책이 요구하는 것 추출\n",
    "job_requirements_prompt = PromptTemplate(\n",
    "    input_variables=['company', 'position'],\n",
    "    template = (\n",
    "        '알려주신 회사명 [{company}]와 직무 [{position}]에서,'\n",
    "        '이 역할에 필요한 핵심 기술, 자질, 책임 등을 식별해 봐.'\n",
    "    )\n",
    ")\n",
    "job_requirements_chain = LLMChain(llm=llm, prompt=job_requirements_prompt, memory=memory)"
   ]
  },
  {
   "cell_type": "code",
   "execution_count": 71,
   "metadata": {},
   "outputs": [],
   "source": [
    "# 프롬프트 2: 요구되는 것을 바탕으로 면접 질문 생성\n",
    "interview_questions_prompt = PromptTemplate(\n",
    "    input_variables = ['requirements'],\n",
    "    template = (\n",
    "        '다음의 직무 요구사항에 따라 : {requirements},'\n",
    "        '이러한 기준을 평가하는 3가지 세부적이고 역할별 면접 질문을 생성합니다.'\n",
    "    )\n",
    ")\n",
    "interview_questions_chain = LLMChain(llm=llm, prompt=interview_questions_prompt, memory=memory)"
   ]
  },
  {
   "cell_type": "code",
   "execution_count": 72,
   "metadata": {},
   "outputs": [],
   "source": [
    "# 프롬프트 3: 사용자 대답 평가\n",
    "answer_evaluation_prompt = PromptTemplate(\n",
    "    input_variables = ['question', 'user_answer'],\n",
    "    template = (\n",
    "        '사용자의 질문에 대한 다음 답변을 평가 : {question}\\n\\n'\n",
    "        \"사용자의 답변 : {user_answer}\\n\\n\"\n",
    "        '관련성, 심도, 명확성을 기반으로 평가 제공합니다.'\n",
    "    )\n",
    ")\n",
    "answer_evaluation_chain = LLMChain(llm=llm, prompt=answer_evaluation_prompt, memory=memory)\n"
   ]
  },
  {
   "cell_type": "code",
   "execution_count": 73,
   "metadata": {},
   "outputs": [],
   "source": [
    "# 프롬프트 4: 모범 답안 생성\n",
    "model_answer_prompt = PromptTemplate(\n",
    "    input_variables=['user_answer', 'evaluation'],\n",
    "    template=(\n",
    "        '사용자의 주어진 답안 : {user_answer}, 그리고 그에 대한 평가 : {evaluation},'\n",
    "        '면접 답변에 대한 모범 답안을 반영하여 개선된 답변을 생성합니다.'\n",
    "    )\n",
    ")\n",
    "model_answer_chain = LLMChain(llm=llm, prompt=model_answer_prompt, memory=memory)"
   ]
  },
  {
   "cell_type": "code",
   "execution_count": 74,
   "metadata": {},
   "outputs": [],
   "source": [
    "# Prompt 통합 flow\n",
    "def interview_simulation(company, position, user_answers):\n",
    "    # 1. 회사/직책 요구사항 추출\n",
    "    requirements = job_requirements_chain.apply([{\"company\": company, \"position\": position}])[0][\"text\"]\n",
    "    print(f\"Job Requirements:\\n{requirements}\\n\")\n",
    "\n",
    "    # 2. 면접 질문 생성\n",
    "    questions = interview_questions_chain.apply([{\"requirements\": requirements}])[0][\"text\"]\n",
    "    print(f\"Generated Questions:\\n{questions}\\n\")\n",
    "\n",
    "    # 3. 사용자 답변 평가 및 모범 답안 생성\n",
    "    for idx, (question, answer) in enumerate(zip(questions.split('\\n'), user_answers), 1):\n",
    "        evaluation = answer_evaluation_chain.apply([{\"question\": question, \"user_answer\": answer}])[0][\"text\"]\n",
    "        print(f\"Evaluation for Answer {idx}:\\n{evaluation}\\n\")\n",
    "        \n",
    "        model_answer = model_answer_chain.apply([{\"user_answer\": answer, \"evaluation\": evaluation}])[0][\"text\"]\n",
    "        print(f\"Model Answer for Question {idx}:\\n{model_answer}\\n\")"
   ]
  },
  {
   "cell_type": "code",
   "execution_count": null,
   "metadata": {},
   "outputs": [
    {
     "name": "stderr",
     "output_type": "stream",
     "text": [
      "Error in LangChainTracer.on_chain_start callback: ValidationError(model='Run', errors=[{'loc': ('__root__',), 'msg': \"argument of type 'NoneType' is not iterable\", 'type': 'type_error'}])\n",
      "Parent run e073b183-dc8d-435c-b669-6d6e95ffcd32 not found for run 03589010-f298-4f43-a2f7-b72509839b54. Treating as a root run.\n",
      "Error in LangChainTracer.on_chain_end callback: TracerException('No indexed run ID e073b183-dc8d-435c-b669-6d6e95ffcd32.')\n",
      "Error in LangChainTracer.on_chain_start callback: ValidationError(model='Run', errors=[{'loc': ('__root__',), 'msg': \"argument of type 'NoneType' is not iterable\", 'type': 'type_error'}])\n",
      "Parent run 951376c7-4e42-41d4-a7db-2d1e3ad30fc6 not found for run 19f19a7d-7743-4df7-834e-8b8d7addb611. Treating as a root run.\n"
     ]
    },
    {
     "name": "stdout",
     "output_type": "stream",
     "text": [
      "Job Requirements:\n",
      "OpenAI에서 개발 엔지니어로 일하기 위해 필요한 핵심 기술, 자질, 그리고 책임은 다음과 같습니다.\n",
      "\n",
      "### 핵심 기술\n",
      "1. **프로그래밍 언어**: Python, C++, JavaScript 등과 같은 주요 프로그래밍 언어에 대한 깊은 이해와 숙련도.\n",
      "2. **머신러닝 및 인공지능**: 머신러닝 라이브러리(TensorFlow, PyTorch 등)와 AI 모델 개발에 대한 경험.\n",
      "3. **데이터 처리 및 분석**: 대량의 데이터를 처리하고 분석할 수 있는 능력, SQL 및 NoSQL 데이터베이스 경험.\n",
      "4. **소프트웨어 개발**: 소프트웨어 개발 라이프사이클에 대한 이해, 버전 관리 시스템(Git 등) 사용 경험.\n",
      "5. **클라우드 컴퓨팅**: AWS, Google Cloud, Azure 등의 클라우드 플랫폼 경험.\n",
      "\n",
      "### 자질\n",
      "1. **문제 해결 능력**: 복잡한 문제를 분석하고 해결할 수 있는 능력.\n",
      "2. **창의성**: 새로운 아이디어를 제시하고 혁신적인 솔루션을 개발할 수 있는 능력.\n",
      "3. **협업 능력**: 다양한 팀과 효과적으로 협업할 수 있는 커뮤니케이션 스킬.\n",
      "4. **자기 주도성**: 프로젝트를 독립적으로 추진하고 관리할 수 있는 능력.\n",
      "5. **학습 능력**: 빠르게 변화하는 기술 트렌드에 적응하고 지속적으로 학습할 수 있는 능력.\n",
      "\n",
      "### 책임\n",
      "1. **소프트웨어 및 시스템 설계**: 고품질의 소프트웨어와 시스템을 설계하고 개발.\n",
      "2. **AI 모델 개발 및 개선**: AI 및 머신러닝 모델의 연구, 개발, 테스트, 배포를 수행.\n",
      "3. **코드 품질 유지**: 코드 리뷰를 통해 코드 품질을 유지하고 개선.\n",
      "4. **프로젝트 관리**: 프로젝트의 목표와 일정을 관리하고, 진척 상황을 보고.\n",
      "5. **기술 문서 작성**: 개발 과정 및 결과를 문서화하여 공유.\n",
      "\n",
      "이 역할은 지속적인 기술 발전과 문제 해결을 요구하며, OpenAI의 목표와 비전에 맞춰 혁신적인 AI 솔루션을 개발하는 데 중점을 둡니다.\n",
      "\n"
     ]
    },
    {
     "name": "stderr",
     "output_type": "stream",
     "text": [
      "Error in LangChainTracer.on_chain_end callback: TracerException('No indexed run ID 951376c7-4e42-41d4-a7db-2d1e3ad30fc6.')\n",
      "Error in LangChainTracer.on_chain_start callback: ValidationError(model='Run', errors=[{'loc': ('__root__',), 'msg': \"argument of type 'NoneType' is not iterable\", 'type': 'type_error'}])\n",
      "Parent run 19e2309f-8b72-4b52-b03b-b8b10d228d74 not found for run 829adc7d-ba50-458c-8096-2874ce130b0d. Treating as a root run.\n"
     ]
    },
    {
     "name": "stdout",
     "output_type": "stream",
     "text": [
      "Generated Questions:\n",
      "OpenAI에서 개발 엔지니어로서의 역량을 평가하기 위한 역할별 면접 질문은 다음과 같습니다.\n",
      "\n",
      "### 프로그래밍 언어 및 소프트웨어 개발\n",
      "1. **질문**: 이전 프로젝트에서 Python과 C++를 사용하여 복잡한 소프트웨어 시스템을 개발한 경험에 대해 설명해 주세요. 해당 프로젝트의 주요 도전 과제는 무엇이었으며, 이를 어떻게 해결하셨나요?\n",
      "   - **의도**: 지원자의 프로그래밍 언어에 대한 깊은 이해와 소프트웨어 개발 경험을 평가하기 위함입니다.\n",
      "\n",
      "### 머신러닝 및 AI 모델 개발\n",
      "2. **질문**: TensorFlow 또는 PyTorch를 사용하여 AI 모델을 개발한 경험이 있습니까? 해당 프로젝트에서 선택한 알고리즘과 모델의 성능을 개선하기 위한 접근 방식에 대해 설명해 주세요.\n",
      "   - **의도**: 지원자의 머신러닝 라이브러리 활용 능력과 AI 모델 개발 및 개선 능력을 평가하기 위함입니다.\n",
      "\n",
      "### 협업 및 프로젝트 관리\n",
      "3. **질문**: 과거에 다양한 팀과 협력하여 수행한 프로젝트 중 가장 성공적이었던 경험을 공유해 주세요. 귀하의 역할은 무엇이었고, 프로젝트의 성공에 기여한 주요 요인은 무엇이라고 생각하십니까?\n",
      "   - **의도**: 지원자의 협업 능력, 의사소통 스킬, 그리고 프로젝트 관리 역량을 평가하기 위함입니다.\n",
      "\n",
      "이러한 질문들은 지원자가 OpenAI에서 개발 엔지니어로서의 역할을 수행하는 데 필요한 기술과 자질을 갖추고 있는지를 평가하는 데 중점을 둡니다.\n",
      "\n"
     ]
    },
    {
     "name": "stderr",
     "output_type": "stream",
     "text": [
      "Error in LangChainTracer.on_chain_end callback: TracerException('No indexed run ID 19e2309f-8b72-4b52-b03b-b8b10d228d74.')\n",
      "Error in LangChainTracer.on_chain_start callback: ValidationError(model='Run', errors=[{'loc': ('__root__',), 'msg': \"argument of type 'NoneType' is not iterable\", 'type': 'type_error'}])\n",
      "Parent run dc864be6-ba3c-4701-a618-e41a028c4c3a not found for run d9a152aa-61da-4cb9-b87e-0b3638ab67a2. Treating as a root run.\n"
     ]
    },
    {
     "name": "stdout",
     "output_type": "stream",
     "text": [
      "Evaluation for Answer 1:\n",
      "사용자의 답변을 평가할 때, 관련성, 심도, 명확성을 다음과 같이 고려할 수 있습니다:\n",
      "\n",
      "1. **관련성**:  \n",
      "   사용자의 답변은 역할별 면접 질문에 대한 응답으로 어느 정도 관련성이 있습니다. 개발 엔지니어로서의 역량을 평가하기 위해서는 머신 러닝 모델을 구축하고 배포한 경험이 중요할 수 있습니다. 이는 면접 질문의 예상 답변 중 하나로 적절하게 보입니다.\n",
      "\n",
      "2. **심도**:  \n",
      "   답변은 다소 표면적이며, 심도 있는 정보를 제공하지 않습니다. \"머신 러닝 모델을 구축하고 배포한 경험\"이라는 표현은 일반적인 설명에 그치며, 구체적인 프로젝트나 기술 세부 사항, 직면했던 도전 과제, 이를 해결한 방법 등에 대한 추가 정보가 필요합니다. 이러한 추가 정보가 있다면 응답의 심도가 더 깊어질 수 있습니다.\n",
      "\n",
      "3. **명확성**:  \n",
      "   답변은 명확하나, 구체적인 세부 정보가 부족합니다. 사용자가 어떤 특정 기술이나 도구를 사용했는지, 어떤 종류의 머신 러닝 모델을 다뤘는지에 대한 정보가 포함된다면 더 명확하고 이해하기 쉬운 답변이 될 것입니다.\n",
      "\n",
      "**종합 평가**:  \n",
      "사용자의 답변은 기본적인 관련성을 가지고 있지만, 더 깊이 있는 설명과 구체적인 사례가 포함되면 더욱 강력한 답변이 될 것입니다. 면접에서 두각을 나타내기 위해서는 경험을 구체적으로 설명하고, 직면했던 문제와 이를 해결한 방법에 대해 자세히 이야기하는 것이 중요합니다.\n",
      "\n"
     ]
    },
    {
     "name": "stderr",
     "output_type": "stream",
     "text": [
      "Error in LangChainTracer.on_chain_end callback: TracerException('No indexed run ID dc864be6-ba3c-4701-a618-e41a028c4c3a.')\n",
      "Error in LangChainTracer.on_chain_start callback: ValidationError(model='Run', errors=[{'loc': ('__root__',), 'msg': \"argument of type 'NoneType' is not iterable\", 'type': 'type_error'}])\n",
      "Parent run dfe0c1bd-dadf-44a2-a869-00aca3ae6ffc not found for run 1f99345c-f3c2-4f39-8326-3a693c5b938a. Treating as a root run.\n"
     ]
    },
    {
     "name": "stdout",
     "output_type": "stream",
     "text": [
      "Model Answer for Question 1:\n",
      "물론입니다. 다음은 개선된 답변 예시입니다:\n",
      "\n",
      "\"저는 실제로 여러 프로젝트에서 머신 러닝 모델을 구축하고 배포한 경험이 있습니다. 그 중 하나로, 최근에 진행한 프로젝트에서는 이미지 분류를 위한 컨볼루션 신경망(CNN) 모델을 개발했습니다. 이 프로젝트의 주요 목표는 대량의 이미지 데이터를 분석하여 특정 객체를 자동으로 식별하는 것이었습니다.\n",
      "\n",
      "저는 Python과 TensorFlow를 사용하여 모델을 설계하고, 데이터 전처리부터 모델 훈련까지 전 과정을 담당했습니다. 이 과정에서 데이터 불균형 문제를 해결하기 위해 데이터 증강 기법을 적용했으며, 하이퍼파라미터 튜닝을 통해 모델의 정확도를 15% 향상시켰습니다.\n",
      "\n",
      "모델이 만족할 만한 수준의 성능을 보이자, Docker를 사용해 모델을 컨테이너화하고, AWS SageMaker를 통해 배포했습니다. 배포 후에는 지속적인 모니터링을 통해 실시간으로 모델의 성능을 평가하고, 필요에 따라 업데이트를 진행했습니다.\n",
      "\n",
      "이 프로젝트를 통해 배운 점은, 모델의 정확도뿐만 아니라 배포 후의 유지보수와 모니터링 또한 매우 중요하다는 것이었습니다. 이러한 경험을 통해 머신 러닝의 전반적인 파이프라인에 대한 깊은 이해를 갖추게 되었으며, 이는 귀사의 프로젝트에 큰 기여를 할 수 있을 것이라 확신합니다.\"\n",
      "\n",
      "이렇게 구체적인 경험과 사용한 기술, 해결한 문제를 상세히 설명하면 면접관에게 더 강한 인상을 줄 수 있습니다.\n",
      "\n"
     ]
    },
    {
     "name": "stderr",
     "output_type": "stream",
     "text": [
      "Error in LangChainTracer.on_chain_end callback: TracerException('No indexed run ID dfe0c1bd-dadf-44a2-a869-00aca3ae6ffc.')\n",
      "Error in LangChainTracer.on_chain_start callback: ValidationError(model='Run', errors=[{'loc': ('__root__',), 'msg': \"argument of type 'NoneType' is not iterable\", 'type': 'type_error'}])\n",
      "Parent run c89ae9fe-f24a-44b7-8bb2-90f39e4deab9 not found for run 4627d5d9-5cf0-4dda-9e61-5b8f1b7df44b. Treating as a root run.\n"
     ]
    },
    {
     "name": "stdout",
     "output_type": "stream",
     "text": [
      "Evaluation for Answer 2:\n",
      "평가:\n",
      "\n",
      "1. 관련성: 높음\n",
      "   - 사용자의 답변은 일반적으로 직장 환경에서 중요하게 여겨지는 팀워크와 소통에 관한 내용입니다. 이는 많은 직무에서 요구하는 필수적인 역량이기 때문에, 질문의 맥락에 적절히 부합한다고 볼 수 있습니다.\n",
      "\n",
      "2. 심도: 중간\n",
      "   - 사용자의 답변은 자신의 강점을 명확히 언급하고 있지만, 구체적인 사례나 경험이 부족하여 심도 있는 답변으로 보기는 어렵습니다. 팀워크와 소통이 강력한 자산인 이유나 이를 통해 얻은 구체적인 성과나 경험이 추가된다면 더 깊이 있는 답변이 될 것입니다.\n",
      "\n",
      "3. 명확성: 높음\n",
      "   - 답변은 명료하고 이해하기 쉽습니다. 사용자가 강조하고자 하는 자신의 강점을 명확히 전달하고 있으며, 간결하게 자신의 생각을 표현하고 있습니다.\n",
      "\n",
      "종합적으로, 사용자의 답변은 관련성이 높고 명확하지만, 심도 있는 답변으로 발전시키기 위해서는 추가적인 설명이나 예시가 필요합니다.\n",
      "\n"
     ]
    },
    {
     "name": "stderr",
     "output_type": "stream",
     "text": [
      "Error in LangChainTracer.on_chain_end callback: TracerException('No indexed run ID c89ae9fe-f24a-44b7-8bb2-90f39e4deab9.')\n",
      "Error in LangChainTracer.on_chain_start callback: ValidationError(model='Run', errors=[{'loc': ('__root__',), 'msg': \"argument of type 'NoneType' is not iterable\", 'type': 'type_error'}])\n",
      "Parent run a0bbed10-d20c-447a-9c4c-2cdf283c83e6 not found for run 0b989df9-05fe-4a0d-91cf-212cc867ce82. Treating as a root run.\n"
     ]
    },
    {
     "name": "stdout",
     "output_type": "stream",
     "text": [
      "Model Answer for Question 2:\n",
      "저는 팀워크와 소통이 제 가장 강력한 자산이라고 믿습니다. 예를 들어, 이전 직장에서 진행했던 프로젝트에서 팀원들과의 원활한 소통을 통해 프로젝트 목표를 명확히 하고, 각자의 역할을 효과적으로 분배할 수 있었습니다. 이 과정에서 발생한 문제들을 적극적으로 해결함으로써 프로젝트를 성공적으로 완수할 수 있었습니다. 이러한 경험을 통해 팀워크와 소통이 어떻게 성과로 이어지는지를 깊이 이해하게 되었으며, 이러한 역량을 통해 팀의 목표 달성에 기여할 수 있다고 확신합니다.\n",
      "\n"
     ]
    },
    {
     "name": "stderr",
     "output_type": "stream",
     "text": [
      "Error in LangChainTracer.on_chain_end callback: TracerException('No indexed run ID a0bbed10-d20c-447a-9c4c-2cdf283c83e6.')\n",
      "Error in LangChainTracer.on_chain_start callback: ValidationError(model='Run', errors=[{'loc': ('__root__',), 'msg': \"argument of type 'NoneType' is not iterable\", 'type': 'type_error'}])\n",
      "Parent run 31e1dfe3-4134-4518-9615-a7fd6b8a3ca0 not found for run a3ae9c33-8908-4683-ab53-ea605a8a61cd. Treating as a root run.\n"
     ]
    },
    {
     "name": "stdout",
     "output_type": "stream",
     "text": [
      "Evaluation for Answer 3:\n",
      "사용자의 답변을 평가하면 다음과 같습니다:\n",
      "\n",
      "1. **관련성**: 사용자의 답변은 프로그래밍 언어 및 소프트웨어 개발과 관련된 질문에 대해 어느 정도 관련성이 있습니다. 새로운 기술을 배우고 적응하는 것은 소프트웨어 개발자에게 중요한 자질이며, 이는 프로그래밍 언어 및 소프트웨어 개발 분야와 연관이 있습니다. 하지만 질문이 더 구체적인 경우, 예를 들어 특정 프로그래밍 언어나 개발 방법론에 대한 것이었다면, 답변의 관련성이 떨어질 수 있습니다.\n",
      "\n",
      "2. **심도**: 답변은 다소 일반적이며 심도 있는 정보를 제공하지 않습니다. \"새로운 기술을 배우고 적응하는 데 열정적입니다\"라는 문장은 개인의 학습 태도를 나타내지만, 구체적인 기술이나 경험, 또는 학습 방법에 대한 정보가 부족합니다. 보다 심도 있는 답변을 위해서는 사용자가 어떤 기술을 배우고 있는지, 어떻게 배우고 있는지, 또는 어떤 경험이 있는지를 추가하면 좋겠습니다.\n",
      "\n",
      "3. **명확성**: 답변은 명확하게 작성되어 있으며, 사용자의 학습 태도를 잘 전달하고 있습니다. 간결하고 이해하기 쉬운 문장으로 되어 있어 명확성 면에서는 문제가 없습니다.\n",
      "\n",
      "종합적으로, 사용자의 답변은 기본적인 관련성과 명확성을 갖추고 있지만, 심도 면에서 개선이 필요합니다. 보다 구체적인 정보나 예시를 추가하면 더 나은 답변이 될 수 있습니다.\n",
      "\n"
     ]
    },
    {
     "name": "stderr",
     "output_type": "stream",
     "text": [
      "Error in LangChainTracer.on_chain_end callback: TracerException('No indexed run ID 31e1dfe3-4134-4518-9615-a7fd6b8a3ca0.')\n"
     ]
    },
    {
     "name": "stdout",
     "output_type": "stream",
     "text": [
      "Model Answer for Question 3:\n",
      "개선된 답변:\n",
      "\n",
      "\"저는 새로운 기술을 배우고 적응하는 데 열정적입니다. 예를 들어, 최근에는 Python 프로그래밍 언어를 독학으로 공부하며 데이터 분석 프로젝트를 진행했습니다. 이를 통해 데이터 처리 및 시각화에 대한 이해도를 높일 수 있었습니다. 또한, Git과 같은 버전 관리 시스템을 사용하여 협업 프로젝트에 참여한 경험이 있습니다. 이러한 경험을 통해 새로운 기술을 빠르게 습득하고 실무에 적용하는 능력을 향상시켰습니다. 앞으로도 변화하는 기술 트렌드를 지속적으로 학습하며, 팀과 조직에 기여할 수 있는 역량을 키워 나가고 싶습니다.\"\n",
      "\n",
      "이 답변은 사용자의 학습 태도와 함께 구체적인 기술과 경험을 강조하여 심도 있는 정보를 제공합니다.\n",
      "\n"
     ]
    }
   ],
   "source": [
    "# 사용 예시\n",
    "company_name = \"OpenAI\"\n",
    "position_name = \"개발 엔지니어\"\n",
    "user_responses = [\n",
    "    \"저는 머신 러닝 모델을 구축하고 배포한 경험이 있습니다.\",\n",
    "    \"저는 팀워크와 소통이 제 가장 강력한 자산이라고 믿습니다.\",\n",
    "    \"저는 새로운 기술을 배우고 적응하는 데 열정적입니다.\"\n",
    "]\n",
    "interview_simulation(company_name, position_name, user_responses)"
   ]
  },
  {
   "cell_type": "code",
   "execution_count": null,
   "metadata": {},
   "outputs": [],
   "source": []
  }
 ],
 "metadata": {
  "kernelspec": {
   "display_name": "test_env",
   "language": "python",
   "name": "python3"
  },
  "language_info": {
   "codemirror_mode": {
    "name": "ipython",
    "version": 3
   },
   "file_extension": ".py",
   "mimetype": "text/x-python",
   "name": "python",
   "nbconvert_exporter": "python",
   "pygments_lexer": "ipython3",
   "version": "3.11.10"
  }
 },
 "nbformat": 4,
 "nbformat_minor": 2
}
